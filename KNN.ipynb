{
 "cells": [
  {
   "cell_type": "code",
   "execution_count": 6,
   "metadata": {},
   "outputs": [],
   "source": [
    "from numpy import *\n",
    "import operator"
   ]
  },
  {
   "cell_type": "code",
   "execution_count": 3,
   "metadata": {},
   "outputs": [
    {
     "data": {
      "text/plain": [
       "matrix([[ 1.00000000e+00, -4.29006720e-16, -9.52347330e-17],\n",
       "        [-8.82809117e-17,  1.00000000e+00,  3.95780157e-17],\n",
       "        [-4.22259766e-17, -8.21468372e-17,  1.00000000e+00]])"
      ]
     },
     "execution_count": 3,
     "metadata": {},
     "output_type": "execute_result"
    }
   ],
   "source": [
    "ran = mat(random.rand(3,3))\n",
    "raniv = ran.I\n",
    "ran*raniv"
   ]
  },
  {
   "cell_type": "code",
   "execution_count": 12,
   "metadata": {},
   "outputs": [],
   "source": [
    "def createDataset():\n",
    "    group = array([[1.0,1.1],[1.0,1.0],[0,0],[0,0.1]])\n",
    "    label = ['A','A','B','B']\n",
    "    return group, label"
   ]
  },
  {
   "cell_type": "code",
   "execution_count": 17,
   "metadata": {},
   "outputs": [],
   "source": [
    "def knn(newPoint, dataset, labels, k):\n",
    "    numPoint = dataset.shape[0] # row number\n",
    "    \n",
    "    # calculate Euclidean distance\n",
    "    \n",
    "    newArray = tile(newPoint, (numPoint,1)) #tile(a,(p,1)) repeat array a p times into p*1 matrix\n",
    "    diff = newArray - dataset\n",
    "    distance = (sum(diff**2,axis=1))**0.5\n",
    "    \n",
    "    # sort all the distances\n",
    "    # argsort() returns the indices that would sort an array in a ascending order \n",
    "    sortedDistIndices = argsort(distance)\n",
    "    \n",
    "    # get first min k lables from input labels\n",
    "    classcount = {}\n",
    "    for i in range(k):\n",
    "        votelabel = labels[sortedDistIndices[i]]\n",
    "    \n",
    "        # count times all labels occur in first k labels\n",
    "    \n",
    "        classcount[votelabel] = classcount.get(votelabel,0) + 1\n",
    "    \n",
    "    # get max count label in classcount\n",
    "    maxi = 0\n",
    "    for k,v in classcount.items():\n",
    "        if v > maxi:\n",
    "            maxi = v\n",
    "            maxiIndex = k\n",
    "            \n",
    "    return maxiIndex\n",
    "    \n",
    "    # method 2, 用operator lib排序, 返回由tuple组成的list\n",
    "    #sortedClassCount = sorted(classCount.iteritems(),\n",
    "    #key=operator.itemgetter(1), reverse=True)\n",
    "    #return sortedClassCount[0][0]"
   ]
  },
  {
   "cell_type": "code",
   "execution_count": 19,
   "metadata": {},
   "outputs": [
    {
     "name": "stdout",
     "output_type": "stream",
     "text": [
      "the predicted lable is B\n"
     ]
    }
   ],
   "source": [
    "# test\n",
    "dataset, labels = createDataset()\n",
    "testdata = array([0.1,0.3])\n",
    "k=3\n",
    "testlabel = knn(testdata, dataset, labels, k)\n",
    "print(\"the predicted lable is\", testlabel)\n"
   ]
  },
  {
   "cell_type": "code",
   "execution_count": null,
   "metadata": {},
   "outputs": [],
   "source": []
  }
 ],
 "metadata": {
  "kernelspec": {
   "display_name": "Python 3",
   "language": "python",
   "name": "python3"
  },
  "language_info": {
   "codemirror_mode": {
    "name": "ipython",
    "version": 3
   },
   "file_extension": ".py",
   "mimetype": "text/x-python",
   "name": "python",
   "nbconvert_exporter": "python",
   "pygments_lexer": "ipython3",
   "version": "3.6.4"
  }
 },
 "nbformat": 4,
 "nbformat_minor": 2
}
