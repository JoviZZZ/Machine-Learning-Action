{
 "cells": [
  {
   "cell_type": "markdown",
   "metadata": {},
   "source": [
    "# Decision Tree"
   ]
  },
  {
   "cell_type": "code",
   "execution_count": 132,
   "metadata": {},
   "outputs": [],
   "source": [
    "from math import log\n",
    "import operator"
   ]
  },
  {
   "cell_type": "code",
   "execution_count": 133,
   "metadata": {},
   "outputs": [],
   "source": [
    "# Calculate Shannon Entropy\n",
    "'''def shannonEntro(dataset):\n",
    "    numEntries = len(dataset)\n",
    "    labelcounts = {}\n",
    "    for data in dataset:\n",
    "        label = data[-1] # label is the last column of the dataset\n",
    "        if label not in labelcounts.keys():\n",
    "            labelcounts[label] = 0\n",
    "        labelcounts[label] += 1\n",
    "    \n",
    "    shannonEntro = 0.0\n",
    "    \n",
    "    for key in labelcounts:\n",
    "        prob = float(labelcounts[key])/numEntries\n",
    "        shannonEntro -= prob*log(prob,2)\n",
    "    return shannonEntro'''\n",
    "def calcShannonEnt(dataSet):\n",
    "    numEntries = len(dataSet)\n",
    "    labelCounts = {}\n",
    "    for featVec in dataSet: #the the number of unique elements and their occurance\n",
    "        currentLabel = featVec[-1]\n",
    "        if currentLabel not in labelCounts.keys(): labelCounts[currentLabel] = 0\n",
    "        labelCounts[currentLabel] += 1\n",
    "    shannonEnt = 0.0\n",
    "    for key in labelCounts:\n",
    "        prob = float(labelCounts[key])/numEntries\n",
    "        shannonEnt -= prob * log(prob,2) #log base 2\n",
    "    return shannonEnt"
   ]
  },
  {
   "cell_type": "code",
   "execution_count": 134,
   "metadata": {},
   "outputs": [],
   "source": [
    "def createDataSet():\n",
    "    dataSet = [[1, 1, 'yes'],\n",
    "               [1, 1, 'yes'],\n",
    "               [1, 0, 'no'],\n",
    "               [0, 1, 'no'],\n",
    "               [0, 1, 'no']]\n",
    "    labels = ['no surfacing','flippers']\n",
    "    #change to discrete values\n",
    "    return dataSet, labels"
   ]
  },
  {
   "cell_type": "code",
   "execution_count": 135,
   "metadata": {},
   "outputs": [
    {
     "name": "stdout",
     "output_type": "stream",
     "text": [
      "[[1, 1, 'yes'], [1, 1, 'yes'], [1, 0, 'no'], [0, 1, 'no'], [0, 1, 'no']]\n",
      "0.9709505944546686\n"
     ]
    }
   ],
   "source": [
    "myData,labels = createDataSet()\n",
    "print(myData)\n",
    "\n",
    "print(shannonEntro(myData)) # higher the Entropy, the more mixed up the data is, then the more possible to improve the model"
   ]
  },
  {
   "cell_type": "code",
   "execution_count": 136,
   "metadata": {},
   "outputs": [],
   "source": [
    "'''def splitDataset(dataset,axis,value):\n",
    "    sperateDataset = []\n",
    "    for item in dataset:\n",
    "        if item[axis] == value:\n",
    "            reducedVec = item[:axis] # extract the elements before axis\n",
    "            reducedVec.extend(item[axis+1:]) # add the elements after axis\n",
    "            sperateDataset.append(reducedVec)\n",
    "    return sperateDataset'''\n",
    "\n",
    "def splitDataSet(dataSet, axis, value):\n",
    "    retDataSet = []\n",
    "    for featVec in dataSet:\n",
    "        if featVec[axis] == value:\n",
    "            reducedFeatVec = featVec[:axis]     #chop out axis used for splitting\n",
    "            reducedFeatVec.extend(featVec[axis+1:])\n",
    "            retDataSet.append(reducedFeatVec)\n",
    "    return retDataSet"
   ]
  },
  {
   "cell_type": "code",
   "execution_count": 137,
   "metadata": {},
   "outputs": [
    {
     "data": {
      "text/plain": [
       "[[1, 'no'], [1, 'no']]"
      ]
     },
     "execution_count": 137,
     "metadata": {},
     "output_type": "execute_result"
    }
   ],
   "source": [
    "splitDataset(myData,0,0)"
   ]
  },
  {
   "cell_type": "code",
   "execution_count": 138,
   "metadata": {},
   "outputs": [],
   "source": [
    "'''def chooseBestFeatureToSplit(dataset):\n",
    "    numFeature = len(dataset[0])-1\n",
    "    baseEntropy = shannonEntro(dataset)\n",
    "    bestInfoGain = 0.0\n",
    "    bestFeature = -1\n",
    "    for i in range(numFeature):\n",
    "        featureList = [feat[i] for feat in dataset] # extract ith feature from each data\n",
    "        uniqueVals = set(featureList) # eliminate repeated values\n",
    "        newEntropy = 0.0\n",
    "        for val in uniqueVals:\n",
    "            subDataset = splitDataset(dataset, i, val) \n",
    "            prob = len(subDataset) / float(len(dataset))\n",
    "            newEntropy = prob * shannonEntro(subDataset) #\n",
    "        infoGain = baseEntropy - newEntropy\n",
    "        \n",
    "        if(infoGain > bestInfoGain):\n",
    "            bestInfoGain = infoGain\n",
    "            bestFeature = i\n",
    "    return bestFeature'''\n",
    "def chooseBestFeatureToSplit(dataSet):\n",
    "    numFeatures = len(dataSet[0]) - 1      #the last column is used for the labels\n",
    "    baseEntropy = calcShannonEnt(dataSet)\n",
    "    bestInfoGain = 0.0; bestFeature = -1\n",
    "    for i in range(numFeatures):        #iterate over all the features\n",
    "        featList = [example[i] for example in dataSet]#create a list of all the examples of this feature\n",
    "        uniqueVals = set(featList)       #get a set of unique values\n",
    "        newEntropy = 0.0\n",
    "        for value in uniqueVals:\n",
    "            subDataSet = splitDataSet(dataSet, i, value)\n",
    "            prob = len(subDataSet)/float(len(dataSet))\n",
    "            newEntropy += prob * calcShannonEnt(subDataSet)     \n",
    "        infoGain = baseEntropy - newEntropy     #calculate the info gain; ie reduction in entropy\n",
    "        if (infoGain > bestInfoGain):       #compare this to the best gain so far\n",
    "            bestInfoGain = infoGain         #if better than current best, set to best\n",
    "            bestFeature = i\n",
    "    return bestFeature                      #returns an integer"
   ]
  },
  {
   "cell_type": "code",
   "execution_count": 139,
   "metadata": {},
   "outputs": [
    {
     "data": {
      "text/plain": [
       "0"
      ]
     },
     "execution_count": 139,
     "metadata": {},
     "output_type": "execute_result"
    }
   ],
   "source": [
    "chooseBestFeatureToSplit(myData)"
   ]
  },
  {
   "cell_type": "code",
   "execution_count": 140,
   "metadata": {},
   "outputs": [],
   "source": [
    "'''def majorityCount(classList):\n",
    "    classCount={}\n",
    "    for vote in classList:\n",
    "        if vote not in classCount.keys(): classCount[vote] = 0\n",
    "        classCount[vote] += 1\n",
    "    sortedClassCount = sorted(classCount.iteritems(),\n",
    "     key=operator.itemgetter(1), reverse=True)\n",
    "    return sortedClassCount[0][0]'''\n",
    "\n",
    "def majorityCnt(classList):\n",
    "    classCount={}\n",
    "    for vote in classList:\n",
    "        if vote not in classCount.keys(): classCount[vote] = 0\n",
    "        classCount[vote] += 1\n",
    "    sortedClassCount = sorted(classCount.iteritems(), key=operator.itemgetter(1), reverse=True)\n",
    "    return sortedClassCount[0][0]"
   ]
  },
  {
   "cell_type": "code",
   "execution_count": 141,
   "metadata": {},
   "outputs": [],
   "source": [
    "'''def createTree(dataset, labels):\n",
    "    classList = [example[-1] for example in dataset] # get all classes\n",
    "    if classList.count(classList[0]) == len(classList): # if all classes in classList are same, return\n",
    "        return classList[0]\n",
    "    if len(dataset[0])==1: \n",
    "        return majorityCount(classList)     # if no features to split, do the major count to decide the final class \n",
    "    bestFeature = chooseBestFeatureToSplit(dataset)\n",
    "    print(bestFeature)\n",
    "    bestFeatureLabel = labels[bestFeature]  \n",
    "    myTree = {bestFeatureLabel:{}}\n",
    "    del(sublabels[bestFeature])        # delete the node feature from feature labels\n",
    "    featureVals = [example[bestFeature] for example in dataset] \n",
    "    uniqueVals = set(featureVals)\n",
    "    \n",
    "    for value in uniqueVals:\n",
    "        subLabels = labels[:]  #keep the original labels same every time\n",
    "        myTree[bestFeatureLabel][value] = createTree(splitDataset(dataset,bestFeature,value), subLabels) \n",
    "    return myTree'''\n",
    "\n",
    "'''def createTree(dataSet,labels):\n",
    "    classList = [example[-1] for example in dataSet]\n",
    "    if classList.count(classList[0]) == len(classList): \n",
    "        return classList[0]#stop splitting when all of the classes are equal\n",
    "    if len(dataSet[0]) == 1: #stop splitting when there are no more features in dataSet\n",
    "        return majorityCnt(classList)\n",
    "    bestFeat = chooseBestFeatureToSplit(dataSet)\n",
    "    bestFeatLabel = labels[bestFeat]\n",
    "    myTree = {bestFeatLabel:{}}\n",
    "    del(labels[bestFeat])\n",
    "    featValues = [example[bestFeat] for example in dataSet]\n",
    "    uniqueVals = set(featValues)\n",
    "    for value in uniqueVals:\n",
    "        subLabels = labels[:]       #copy all of labels, so trees don't mess up existing labels\n",
    "        myTree[bestFeatLabel][value] = createTree(splitDataSet(dataSet, bestFeat, value),subLabels)\n",
    "    return myTree '''\n",
    "def createTree(dataSet,labels):\n",
    "    #获取数据集中的最后一列的类标签，存入classList列表\n",
    "    classList=[example[-1] for example in dataSet]\n",
    "    #通过count()函数获取类标签列表中第一个类标签的数目\n",
    "    #判断数目是否等于列表长度，相同表面所有类标签相同，属于同一类\n",
    "    if classList.count(classList[0])==len(classList):\n",
    "        return classList[0]\n",
    "    #遍历完所有的特征属性，此时数据集的列为1，即只有类标签列\n",
    "    if len(dataSet[0])==1:\n",
    "        #多数表决原则，确定类标签\n",
    "        return majorityCnt(classList)\n",
    "    #确定出当前最优的分类特征\n",
    "    bestFeat=chooseBestFeatureToSplit(dataSet)\n",
    "    #在特征标签列表中获取该特征对应的值\n",
    "    bestFeatLabel=labels[bestFeat]\n",
    "    #采用字典嵌套字典的方式，存储分类树信息\n",
    "    myTree={bestFeatLabel:{}}\n",
    "    \n",
    "    ##此位置书上写的有误，书上为del(labels[bestFeat])\n",
    "    ##相当于操作原始列表内容，导致原始列表内容发生改变\n",
    "    ##按此运行程序，报错'no surfacing'is not in list\n",
    "    ##以下代码已改正\n",
    "    \n",
    "    #复制当前特征标签列表，防止改变原始列表的内容\n",
    "    subLabels=labels[:]\n",
    "    #删除属性列表中当前分类数据集特征\n",
    "    del(subLabels[bestFeat])\n",
    "    #获取数据集中最优特征所在列\n",
    "    featValues=[example[bestFeat] for example in dataSet]\n",
    "    #采用set集合性质，获取特征的所有的唯一取值\n",
    "    uniqueVals=set(featValues)\n",
    "    #遍历每一个特征取值\n",
    "    for value in uniqueVals:\n",
    "        #采用递归的方法利用该特征对数据集进行分类\n",
    "        #@bestFeatLabel 分类特征的特征标签值\n",
    "        #@dataSet 要分类的数据集\n",
    "        #@bestFeat 分类特征的标称值\n",
    "        #@value 标称型特征的取值\n",
    "        #@subLabels 去除分类特征后的子特征标签列表\n",
    "        myTree[bestFeatLabel][value]=createTree(splitDataSet\\\n",
    "            (dataSet,bestFeat,value),subLabels)\n",
    "    return myTree"
   ]
  },
  {
   "cell_type": "code",
   "execution_count": 142,
   "metadata": {},
   "outputs": [
    {
     "data": {
      "text/plain": [
       "{'no surfacing': {0: 'no', 1: {'flippers': {0: 'no', 1: 'yes'}}}}"
      ]
     },
     "execution_count": 142,
     "metadata": {},
     "output_type": "execute_result"
    }
   ],
   "source": [
    "myTree = createTree(myData, labels)\n",
    "myTree"
   ]
  },
  {
   "cell_type": "markdown",
   "metadata": {},
   "source": [
    "# Classification function for an existing decision tree"
   ]
  },
  {
   "cell_type": "code",
   "execution_count": 147,
   "metadata": {},
   "outputs": [],
   "source": [
    "def classify(inputTree, featLabels, testVec):\n",
    "    firstStr = list(inputTree.keys())[0] # first feature name\n",
    "    secondDict = inputTree[firstStr] \n",
    "    featIndex = featLabels.index(firstStr) #index of first feature\n",
    "    \n",
    "    for key in secondDict.keys(): \n",
    "        if testVec[featIndex] == key:\n",
    "            if type(secondDict[key]).__name__=='dict':\n",
    "                classLabel = classify(secondDict[key],featLabels,testVec)\n",
    "            else:\n",
    "                classLabel = secondDict[key]\n",
    "    return classLabel\n",
    "        "
   ]
  },
  {
   "cell_type": "code",
   "execution_count": 149,
   "metadata": {},
   "outputs": [
    {
     "data": {
      "text/plain": [
       "'yes'"
      ]
     },
     "execution_count": 149,
     "metadata": {},
     "output_type": "execute_result"
    }
   ],
   "source": [
    "classify(myTree,labels,[1,1])"
   ]
  },
  {
   "cell_type": "markdown",
   "metadata": {},
   "source": [
    "# Persisting Decision Tree with \"pickle\""
   ]
  },
  {
   "cell_type": "code",
   "execution_count": 154,
   "metadata": {},
   "outputs": [],
   "source": [
    "def storeTree(inputTree,filename):\n",
    "    import pickle\n",
    "    fw = open(filename,'wb') # write as byte\n",
    "    pickle.dump(inputTree,fw)\n",
    "    fw.close()\n",
    "    \n",
    "def grabTree(filename):\n",
    "    import pickle \n",
    "    fr = open(filename,'rb') # read as byte\n",
    "    return pickle.load(fr)"
   ]
  },
  {
   "cell_type": "code",
   "execution_count": 155,
   "metadata": {},
   "outputs": [
    {
     "data": {
      "text/plain": [
       "{'no surfacing': {0: 'no', 1: {'flippers': {0: 'no', 1: 'yes'}}}}"
      ]
     },
     "execution_count": 155,
     "metadata": {},
     "output_type": "execute_result"
    }
   ],
   "source": [
    "storeTree(myTree, 'classifierStorage.txt')\n",
    "grabTree('classifierStorage.txt')"
   ]
  },
  {
   "cell_type": "markdown",
   "metadata": {},
   "source": [
    "# Using DecisionTree Predicting contact lens type"
   ]
  },
  {
   "cell_type": "code",
   "execution_count": 156,
   "metadata": {},
   "outputs": [
    {
     "data": {
      "text/plain": [
       "{'tearRate': {'normal': {'astigmatic': {'no': {'age': {'pre': 'soft',\n",
       "      'presbyopic': {'prescript': {'hyper': 'soft', 'myope': 'no lenses'}},\n",
       "      'young': 'soft'}},\n",
       "    'yes': {'prescript': {'hyper': {'age': {'pre': 'no lenses',\n",
       "        'presbyopic': 'no lenses',\n",
       "        'young': 'hard'}},\n",
       "      'myope': 'hard'}}}},\n",
       "  'reduced': 'no lenses'}}"
      ]
     },
     "execution_count": 156,
     "metadata": {},
     "output_type": "execute_result"
    }
   ],
   "source": [
    "fr = open('lenses.txt')\n",
    "lenses = [inst.strip().split('\\t') for inst in fr.readlines()]\n",
    "lensesLabels = ['age','prescript','astigmatic','tearRate']\n",
    "lensesTree = createTree(lenses,lensesLabels)\n",
    "lensesTree"
   ]
  }
 ],
 "metadata": {
  "kernelspec": {
   "display_name": "Python 3",
   "language": "python",
   "name": "python3"
  },
  "language_info": {
   "codemirror_mode": {
    "name": "ipython",
    "version": 3
   },
   "file_extension": ".py",
   "mimetype": "text/x-python",
   "name": "python",
   "nbconvert_exporter": "python",
   "pygments_lexer": "ipython3",
   "version": "3.6.4"
  }
 },
 "nbformat": 4,
 "nbformat_minor": 2
}
